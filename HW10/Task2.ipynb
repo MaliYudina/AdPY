{
 "cells": [
  {
   "cell_type": "code",
   "execution_count": null,
   "metadata": {},
   "outputs": [],
   "source": [
    "import pandas as pd"
   ]
  },
  {
   "cell_type": "code",
   "execution_count": 108,
   "metadata": {},
   "outputs": [],
   "source": [
    "def count_dynamics(years):\n",
    "    both_genders = {}\n",
    "    male = []\n",
    "    female = []\n",
    "    for year in years:\n",
    "            path = (f'yob{year}.txt')\n",
    "            frame = pd.read_csv(path, names=['Name', 'Gender', 'Count'])\n",
    "            female.append(frame['Gender'].value_counts()['F'])\n",
    "            male.append(frame['Gender'].value_counts()['M'])\n",
    "    both_genders['F'] = female\n",
    "    both_genders['M'] = male\n",
    "    print('Female dynamics: ', both_genders['F'], 'Male dynamics: ', both_genders['M'])"
   ]
  },
  {
   "cell_type": "code",
   "execution_count": 111,
   "metadata": {},
   "outputs": [
    {
     "name": "stdout",
     "output_type": "stream",
     "text": [
      "Female dynamics:  [942, 1028, 1054] Male dynamics:  [1058, 1099, 1030]\n"
     ]
    }
   ],
   "source": [
    "count_dynamics([1880, 1882, 1883]) "
   ]
  }
 ],
 "metadata": {
  "kernelspec": {
   "display_name": "Python 3",
   "language": "python",
   "name": "python3"
  },
  "language_info": {
   "codemirror_mode": {
    "name": "ipython",
    "version": 3
   },
   "file_extension": ".py",
   "mimetype": "text/x-python",
   "name": "python",
   "nbconvert_exporter": "python",
   "pygments_lexer": "ipython3",
   "version": "3.6.4"
  }
 },
 "nbformat": 4,
 "nbformat_minor": 2
}
